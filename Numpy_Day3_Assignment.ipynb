{
 "cells": [
  {
   "cell_type": "code",
   "execution_count": 3,
   "id": "2f4c0b48",
   "metadata": {},
   "outputs": [
    {
     "name": "stdout",
     "output_type": "stream",
     "text": [
      "Requirement already satisfied: numpy in c:\\users\\koun9\\anaconda3\\lib\\site-packages (1.24.3)\n"
     ]
    }
   ],
   "source": [
    "!pip install numpy"
   ]
  },
  {
   "cell_type": "code",
   "execution_count": 5,
   "id": "f0ef024e",
   "metadata": {},
   "outputs": [],
   "source": [
    "import numpy as np"
   ]
  },
  {
   "cell_type": "code",
   "execution_count": 6,
   "id": "e23931cd",
   "metadata": {},
   "outputs": [],
   "source": [
    "x = np.array([(1,2,3,4,5,6,7,8,9,10)])\n",
    "\n",
    "y = np.array([(11,12,13,14,15,16,17,18,19,20)])"
   ]
  },
  {
   "cell_type": "code",
   "execution_count": 7,
   "id": "881dbf51",
   "metadata": {},
   "outputs": [
    {
     "name": "stdout",
     "output_type": "stream",
     "text": [
      "[[12 14 16 18 20 22 24 26 28 30]]\n",
      "[[12 14 16 18 20 22 24 26 28 30]]\n"
     ]
    }
   ],
   "source": [
    "#Adding two arrays\n",
    "print(x + y)\n",
    "print (np.add(x,y))"
   ]
  },
  {
   "cell_type": "code",
   "execution_count": 9,
   "id": "bab9def2",
   "metadata": {},
   "outputs": [
    {
     "name": "stdout",
     "output_type": "stream",
     "text": [
      "[[-10 -10 -10 -10 -10 -10 -10 -10 -10 -10]]\n",
      "[[-10 -10 -10 -10 -10 -10 -10 -10 -10 -10]]\n"
     ]
    }
   ],
   "source": [
    "#Subtracting two arrays\n",
    "print(x - y)\n",
    "print (np.subtract(x,y))"
   ]
  },
  {
   "cell_type": "code",
   "execution_count": 11,
   "id": "41083c02",
   "metadata": {},
   "outputs": [
    {
     "name": "stdout",
     "output_type": "stream",
     "text": [
      "[[ 11  24  39  56  75  96 119 144 171 200]]\n",
      "[[ 11  24  39  56  75  96 119 144 171 200]]\n"
     ]
    }
   ],
   "source": [
    "#Multiplying two arrays\n",
    "print(x * y)\n",
    "print (np.multiply(x,y))"
   ]
  },
  {
   "cell_type": "code",
   "execution_count": 12,
   "id": "5c1ad165",
   "metadata": {},
   "outputs": [
    {
     "name": "stdout",
     "output_type": "stream",
     "text": [
      "[[0.09090909 0.16666667 0.23076923 0.28571429 0.33333333 0.375\n",
      "  0.41176471 0.44444444 0.47368421 0.5       ]]\n",
      "[[0.09090909 0.16666667 0.23076923 0.28571429 0.33333333 0.375\n",
      "  0.41176471 0.44444444 0.47368421 0.5       ]]\n"
     ]
    }
   ],
   "source": [
    "#Dividinging two arrays\n",
    "print(x / y)\n",
    "print (np.divide(x,y))"
   ]
  },
  {
   "cell_type": "code",
   "execution_count": 13,
   "id": "8ac2236a",
   "metadata": {},
   "outputs": [
    {
     "name": "stdout",
     "output_type": "stream",
     "text": [
      "Square roots of elements in array1:\n",
      "Square root of 1 is 1.0\n",
      "Square root of 4 is 2.0\n",
      "Square root of 9 is 3.0\n",
      "Square root of 16 is 4.0\n",
      "Square root of 25 is 5.0\n",
      "\n",
      "Square roots of elements in array2:\n",
      "Square root of 2 is 1.4142135623730951\n",
      "Square root of 3 is 1.7320508075688772\n",
      "Square root of 5 is 2.23606797749979\n",
      "Square root of 7 is 2.6457513110645907\n",
      "Square root of 11 is 3.3166247903554\n",
      "\n",
      "Square roots of elements in array3:\n",
      "Square root of 0.0 is 0.0\n",
      "Square root of 0.5 is 0.7071067811865476\n",
      "Square root of 1.0 is 1.0\n",
      "Square root of 1.5 is 1.224744871391589\n",
      "Square root of 2.0 is 1.4142135623730951\n",
      "\n",
      "Square roots of elements in array4:\n",
      "Square root of 10 is 3.1622776601683795\n",
      "Square root of 20 is 4.47213595499958\n",
      "Square root of 30 is 5.477225575051661\n",
      "Square root of 40 is 6.324555320336759\n",
      "Square root of 50 is 7.0710678118654755\n",
      "\n",
      "Square roots of elements in array5:\n",
      "Square root of 6 is 2.449489742783178\n",
      "Square root of 8 is 2.8284271247461903\n",
      "Square root of 10 is 3.1622776601683795\n",
      "Square root of 12 is 3.4641016151377544\n",
      "Square root of 14 is 3.7416573867739413\n",
      "\n"
     ]
    }
   ],
   "source": [
    "import numpy as np\n",
    "\n",
    "# Create 5 arrays\n",
    "array1 = np.array([1, 4, 9, 16, 25])\n",
    "array2 = np.array([2, 3, 5, 7, 11])\n",
    "array3 = np.array([0, 0.5, 1, 1.5, 2])\n",
    "array4 = np.array([10, 20, 30, 40, 50])\n",
    "array5 = np.array([6, 8, 10, 12, 14])\n",
    "\n",
    "# Store arrays in a list for easy iteration\n",
    "arrays = [array1, array2, array3, array4, array5]\n",
    "\n",
    "# Iterate through each array and calculate square root using a for loop\n",
    "for idx, arr in enumerate(arrays):\n",
    "    print(f\"Square roots of elements in array{idx + 1}:\")\n",
    "    for num in arr:\n",
    "        sqrt_num = np.sqrt(num)\n",
    "        print(f\"Square root of {num} is {sqrt_num}\")\n",
    "    print()  # Add a newline for readability\n"
   ]
  },
  {
   "cell_type": "code",
   "execution_count": 16,
   "id": "f55788c2",
   "metadata": {},
   "outputs": [
    {
     "name": "stdout",
     "output_type": "stream",
     "text": [
      "Original array: [ 10  20  30  40  50  60  70  80  90 100]\n",
      "positive slice1: [ 30  40  50  60  70  80  90 100]\n",
      "positive slice2: [40 50 60 70 80 90]\n",
      "positive slice3: [10 20 30 40 50 60 70]\n",
      "Negative slice1: [ 30  40  50  60  70  80  90 100]\n",
      "Negative slice2: [60 70 80]\n",
      "Negative slice3: [10 20 30 40 50 60]\n"
     ]
    }
   ],
   "source": [
    "import numpy as np\n",
    "\n",
    "# Create an array\n",
    "my_array = np.array([10, 20, 30, 40, 50, 60, 70, 80, 90, 100])\n",
    "\n",
    "# Positive slicing\n",
    "positive_slice1 = my_array[2:]  # Select elements from index 2 to the end (exclusive)\n",
    "positive_slice2 = my_array[3:9]  # Select elements from index 3 to index 9 (exclusive)\n",
    "positive_slice3 = my_array[:7]  # Select elements until index 6 (exclusive)\n",
    "\n",
    "# Negative slicing\n",
    "negative_slice1 = my_array[-8:]  # Select elements from 8th element from the end\n",
    "negative_slice2 = my_array[-5:-2]  # Select elements from 5th element from the end to 2nd element from the end\n",
    "negative_slice3 = my_array[:-4]  # Select elements until 4th element from the end\n",
    "\n",
    "print(\"Original array:\", my_array)\n",
    "print(\"positive slice1:\", positive_slice1)\n",
    "print(\"positive slice2:\", positive_slice2)\n",
    "print(\"positive slice3:\", positive_slice3)\n",
    "print(\"Negative slice1:\", negative_slice1)\n",
    "print(\"Negative slice2:\", negative_slice2)\n",
    "print(\"Negative slice3:\", negative_slice3)"
   ]
  },
  {
   "cell_type": "code",
   "execution_count": 27,
   "id": "3cb5ce8a",
   "metadata": {},
   "outputs": [
    {
     "name": "stdout",
     "output_type": "stream",
     "text": [
      "[ 90 100 110 120]\n",
      "[100 110]\n",
      "[ 80  90 100]\n"
     ]
    }
   ],
   "source": [
    "arr = np.array([[10, 20, 30, 40, 50, 60],[70, 80, 90, 100, 110, 120]])\n",
    "\n",
    "print(arr[1, 2:6])\n",
    "print(arr[1, 3:5])\n",
    "print(arr[1, 1:4])\n"
   ]
  },
  {
   "cell_type": "code",
   "execution_count": 32,
   "id": "30c1f9fe",
   "metadata": {},
   "outputs": [
    {
     "name": "stdout",
     "output_type": "stream",
     "text": [
      "[200]\n",
      "[300 900]\n",
      "[ 400 1000]\n",
      "[ 500 1100]\n",
      "[ 600 1200]\n",
      "[900]\n",
      "[1000]\n",
      "[1100]\n",
      "[1200]\n"
     ]
    }
   ],
   "source": [
    "arr = np.array([[100, 200, 300, 400, 500, 600],[700, 800, 900, 1000, 1100, 1200]])\n",
    "print(arr[0:1, 1])\n",
    "print(arr[0:2, 2])\n",
    "print(arr[0:3, 3])\n",
    "print(arr[0:4, 4])\n",
    "print(arr[0:5, 5])\n",
    "print(arr[1:2, 2])\n",
    "print(arr[1:3, 3])\n",
    "print(arr[1:4, 4])\n",
    "print(arr[1:5, 5])"
   ]
  },
  {
   "cell_type": "code",
   "execution_count": null,
   "id": "d7448011",
   "metadata": {},
   "outputs": [],
   "source": []
  }
 ],
 "metadata": {
  "kernelspec": {
   "display_name": "Python 3 (ipykernel)",
   "language": "python",
   "name": "python3"
  },
  "language_info": {
   "codemirror_mode": {
    "name": "ipython",
    "version": 3
   },
   "file_extension": ".py",
   "mimetype": "text/x-python",
   "name": "python",
   "nbconvert_exporter": "python",
   "pygments_lexer": "ipython3",
   "version": "3.11.5"
  }
 },
 "nbformat": 4,
 "nbformat_minor": 5
}
