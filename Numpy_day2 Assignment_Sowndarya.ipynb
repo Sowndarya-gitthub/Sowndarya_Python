{
 "cells": [
  {
   "cell_type": "code",
   "execution_count": 1,
   "id": "e58221c7",
   "metadata": {},
   "outputs": [
    {
     "name": "stdout",
     "output_type": "stream",
     "text": [
      "Requirement already satisfied: numpy in c:\\users\\koun9\\anaconda3\\lib\\site-packages (1.24.3)\n"
     ]
    }
   ],
   "source": [
    "!pip install numpy"
   ]
  },
  {
   "cell_type": "code",
   "execution_count": 2,
   "id": "f7fbde58",
   "metadata": {},
   "outputs": [],
   "source": [
    "#import numpy\n",
    "import numpy as np"
   ]
  },
  {
   "cell_type": "code",
   "execution_count": 3,
   "id": "5c75bda0",
   "metadata": {},
   "outputs": [
    {
     "data": {
      "text/plain": [
       "5"
      ]
     },
     "execution_count": 3,
     "metadata": {},
     "output_type": "execute_result"
    }
   ],
   "source": [
    "# finding length of array\n",
    "\n",
    "arr = np.array([[10,20,30,40,50],\n",
    "                [11,21,31,41,51],\n",
    "                [12,22,32,42,52],\n",
    "                [13,23,33,43,53],\n",
    "                [14,24,34,44,54]])\n",
    "len(arr)"
   ]
  },
  {
   "cell_type": "code",
   "execution_count": 4,
   "id": "f94c008f",
   "metadata": {},
   "outputs": [
    {
     "name": "stdout",
     "output_type": "stream",
     "text": [
      "(5, 5)\n"
     ]
    }
   ],
   "source": [
    "print(arr.shape)"
   ]
  },
  {
   "cell_type": "code",
   "execution_count": 5,
   "id": "dd6eb647",
   "metadata": {},
   "outputs": [
    {
     "name": "stdout",
     "output_type": "stream",
     "text": [
      "40\n",
      "12\n",
      "53\n"
     ]
    }
   ],
   "source": [
    "# accessing elements form array\n",
    "\n",
    "arr = np.array([[10,20,30,40,50],\n",
    "                [11,21,31,41,51],\n",
    "                [12,22,32,42,52],\n",
    "                [13,23,33,43,53],\n",
    "                [14,24,34,44,54]])\n",
    "\n",
    "print(arr[0,3]) #3rd element in row 1\n",
    "print(arr[2,0]) #1st element in row 3\n",
    "print(arr[3,4]) #5th element in row 4"
   ]
  },
  {
   "cell_type": "code",
   "execution_count": 6,
   "id": "daceab33",
   "metadata": {},
   "outputs": [
    {
     "name": "stdout",
     "output_type": "stream",
     "text": [
      "91\n"
     ]
    }
   ],
   "source": [
    "# accessing 3D array\n",
    "\n",
    "arr = np.array([[[11,52,55,94],[12,15,57,165]],  \n",
    "                [[1,67,82,75],[46,22,748,92]],\n",
    "                [[86,23,78,56],[89,22,43,47]],\n",
    "                [[44,85,91,58],[81,32,31,72]]])\n",
    "\n",
    "print(arr[3,0,2])"
   ]
  },
  {
   "cell_type": "code",
   "execution_count": 7,
   "id": "cab873c0",
   "metadata": {},
   "outputs": [
    {
     "name": "stdout",
     "output_type": "stream",
     "text": [
      "92\n"
     ]
    }
   ],
   "source": [
    "print(arr[1,1,3])"
   ]
  },
  {
   "cell_type": "code",
   "execution_count": 8,
   "id": "87bf7994",
   "metadata": {},
   "outputs": [
    {
     "name": "stdout",
     "output_type": "stream",
     "text": [
      "78\n"
     ]
    }
   ],
   "source": [
    "print(arr[2,0,2])"
   ]
  },
  {
   "cell_type": "code",
   "execution_count": 9,
   "id": "6e78a3de",
   "metadata": {},
   "outputs": [
    {
     "name": "stdout",
     "output_type": "stream",
     "text": [
      "[[  1   2   3   4   5   6   7   8   9  10]\n",
      " [ 11  12  13  14  15  16  17  18  19  20]\n",
      " [ 21  22  23  24  25  26  27  28  29  30]\n",
      " [ 31  32  33  34  35  36  37  38  39  40]\n",
      " [ 41  42  43  44  45  46  47  48  49  50]\n",
      " [ 51  52  53  54  55  56  57  58  59  60]\n",
      " [ 61  62  63  64  65  66  67  68  69  70]\n",
      " [ 71  72  73  74  75  76  77  78  79  80]\n",
      " [ 81  82  83  84  85  86  87  88  89  90]\n",
      " [ 91  92  93  94  95  96  97  98  99 100]\n",
      " [101 102 103 104 105 106 107 108 109 110]\n",
      " [111 112 113 114 115 116 117 118 119 120]]\n"
     ]
    }
   ],
   "source": [
    "#reshaping elements\n",
    "\n",
    "arr=np.array([1,2,3,4,5,6,7,8,9,10,11,12,13,14,15,16,17,18,19,20,21,22,23,24,25,26,27,28,29,30,31,32,33,34,35,36,37,38,39,40,41,42,43,44,45,46,47,48,49,50,51,52,53,54,55,56,57,58,59,60,61,62,63,64,65,66,67,68,69,70,71,72,73,74,75,76,77,78,79,80,81,82,83,84,85,86,87,88,89,90,91,92,93,94,95,96,97,98,99,100,101,102,103,104,105,106,107,108,109,110,111,112,113,114,115,116,117,118,119,120])\n",
    "newarr= arr.reshape(12,10)\n",
    "print(newarr)"
   ]
  },
  {
   "cell_type": "code",
   "execution_count": 10,
   "id": "bb90e01c",
   "metadata": {},
   "outputs": [
    {
     "name": "stdout",
     "output_type": "stream",
     "text": [
      "[[[  1   2   3   4   5   6]\n",
      "  [  7   8   9  10  11  12]\n",
      "  [ 13  14  15  16  17  18]\n",
      "  [ 19  20  21  22  23  24]]\n",
      "\n",
      " [[ 25  26  27  28  29  30]\n",
      "  [ 31  32  33  34  35  36]\n",
      "  [ 37  38  39  40  41  42]\n",
      "  [ 43  44  45  46  47  48]]\n",
      "\n",
      " [[ 49  50  51  52  53  54]\n",
      "  [ 55  56  57  58  59  60]\n",
      "  [ 61  62  63  64  65  66]\n",
      "  [ 67  68  69  70  71  72]]\n",
      "\n",
      " [[ 73  74  75  76  77  78]\n",
      "  [ 79  80  81  82  83  84]\n",
      "  [ 85  86  87  88  89  90]\n",
      "  [ 91  92  93  94  95  96]]\n",
      "\n",
      " [[ 97  98  99 100 101 102]\n",
      "  [103 104 105 106 107 108]\n",
      "  [109 110 111 112 113 114]\n",
      "  [115 116 117 118 119 120]]]\n"
     ]
    }
   ],
   "source": [
    "arr=np.array([1,2,3,4,5,6,7,8,9,10,11,12,13,14,15,16,17,18,19,20,21,22,23,24,25,26,27,28,29,30,31,32,33,34,35,36,37,38,39,40,41,42,43,44,45,46,47,48,49,50,51,52,53,54,55,56,57,58,59,60,61,62,63,64,65,66,67,68,69,70,71,72,73,74,75,76,77,78,79,80,81,82,83,84,85,86,87,88,89,90,91,92,93,94,95,96,97,98,99,100,101,102,103,104,105,106,107,108,109,110,111,112,113,114,115,116,117,118,119,120])\n",
    "\n",
    "newarr = arr.reshape(5,4,6)\n",
    "print(newarr)"
   ]
  },
  {
   "cell_type": "code",
   "execution_count": 11,
   "id": "1a18aba2",
   "metadata": {},
   "outputs": [
    {
     "name": "stdout",
     "output_type": "stream",
     "text": [
      "[[[  1   2   3   4   5   6   7   8   9  10  11  12  13  14  15  16  17\n",
      "    18  19  20]\n",
      "  [ 21  22  23  24  25  26  27  28  29  30  31  32  33  34  35  36  37\n",
      "    38  39  40]]\n",
      "\n",
      " [[ 41  42  43  44  45  46  47  48  49  50  51  52  53  54  55  56  57\n",
      "    58  59  60]\n",
      "  [ 61  62  63  64  65  66  67  68  69  70  71  72  73  74  75  76  77\n",
      "    78  79  80]]\n",
      "\n",
      " [[ 81  82  83  84  85  86  87  88  89  90  91  92  93  94  95  96  97\n",
      "    98  99 100]\n",
      "  [101 102 103 104 105 106 107 108 109 110 111 112 113 114 115 116 117\n",
      "   118 119 120]]]\n"
     ]
    }
   ],
   "source": [
    "newarr = arr.reshape(3,2,20)\n",
    "print(newarr)"
   ]
  },
  {
   "cell_type": "code",
   "execution_count": null,
   "id": "adfa8a32",
   "metadata": {},
   "outputs": [],
   "source": []
  }
 ],
 "metadata": {
  "kernelspec": {
   "display_name": "Python 3 (ipykernel)",
   "language": "python",
   "name": "python3"
  },
  "language_info": {
   "codemirror_mode": {
    "name": "ipython",
    "version": 3
   },
   "file_extension": ".py",
   "mimetype": "text/x-python",
   "name": "python",
   "nbconvert_exporter": "python",
   "pygments_lexer": "ipython3",
   "version": "3.11.5"
  }
 },
 "nbformat": 4,
 "nbformat_minor": 5
}
